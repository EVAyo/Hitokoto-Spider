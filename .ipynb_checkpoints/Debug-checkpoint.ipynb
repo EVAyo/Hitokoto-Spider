{
 "cells": [
  {
   "cell_type": "code",
   "execution_count": 1,
   "metadata": {},
   "outputs": [],
   "source": [
    "from concurrent.futures import ThreadPoolExecutor,as_completed\n",
    "import requests as r\n",
    "import json as js\n",
    "import pandas as pd\n",
    "# 导入环境"
   ]
  },
  {
   "cell_type": "code",
   "execution_count": 2,
   "metadata": {},
   "outputs": [
    {
     "name": "stdout",
     "output_type": "stream",
     "text": [
      "{\n",
      "  \"id\": 1150,\n",
      "  \"hitokoto\": \"丁丁漏水夜何长，漫漫轻云露月光。\",\n",
      "  \"type\": \"g\",\n",
      "  \"from\": \"秋夜曲\",\n",
      "  \"from_who\": null,\n",
      "  \"creator\": \"zrnlkc\",\n",
      "  \"creator_uid\": 266,\n",
      "  \"reviewer\": 0,\n",
      "  \"uuid\": \"579a7e97-907d-4748-b456-eafe5ec71e67\",\n",
      "  \"created_at\": \"1489896568\"\n",
      "}\n"
     ]
    }
   ],
   "source": [
    "res = r.get('https://v1.hitokoto.cn/') # Get Response from the Link\n",
    "print(res.text)\n",
    "# 第一次获取一言内容，确保可以连接"
   ]
  },
  {
   "cell_type": "code",
   "execution_count": 13,
   "metadata": {},
   "outputs": [],
   "source": [
    "def worker(pageNum): # 定义函数worker\n",
    "    try:\n",
    "        res = r.get('https://v1.hitokoto.cn/') # 重新获取新的一言\n",
    "        data = res.json()[res.text]\n",
    "        for item in data:\n",
    "            author = item['id']['hitokoto']\n",
    "            # 一条答案包括 content 和 excerpt 两部分\n",
    "            content = item['id']\n",
    "            excerpt = item['hitokoto']\n",
    "            answer = content + excerpt\n",
    "            # 去掉富文本标签\n",
    "            answer = re.sub(\"<.*?>\",\"\",answer)\n",
    "            return [author,answer]\n",
    "    except Exception as e:\n",
    "        print(e)\n",
    "        print(content,excerpt)"
   ]
  },
  {
   "cell_type": "code",
   "execution_count": 14,
   "metadata": {},
   "outputs": [
    {
     "name": "stdout",
     "output_type": "stream",
     "text": [
      "'{\\n  \"id\": 4615,\\n  \"hitokoto\": \"朝着下一道光芒横渡大海吧！\",\\n  \"type\": \"a\",\\n  \"from\": \"Aqours\",\\n  \"from_who\": null,\\n  \"creator\": \"Chika Takami\",\\n  \"creator_uid\": 3838,\\n  \"reviewer\": 0,\\n  \"uuid\": \"8b3b25d3-4a25-43ea-9d3c-c8f96e2fb348\",\\n  \"created_at\": \"1567592796\"\\n}'\n",
      "'{\\n  \"id\": 1145,\\n  \"hitokoto\": \"当欲望失去了枷锁，向左是地狱，向右也是地狱。\",\\n  \"type\": \"d\",\\n  \"from\": \"尘缘\",\\n  \"from_who\": null,\\n  \"creator\": \"小兵的回忆\",\\n  \"creator_uid\": 245,\\n  \"reviewer\": 0,\\n  \"uuid\": \"b67ad065-09b6-4e90-9078-7564d55e7962\",\\n  \"created_at\": \"1487730924\"\\n}'\n",
      "'{\\n  \"id\": 4534,\\n  \"hitokoto\": \"欢迎回家，Dr。\",\\n  \"type\": \"c\",\\n  \"from\": \"明日方舟\",\\n  \"from_who\": null,\\n  \"creator\": \"Venus\",\\n  \"creator_uid\": 3500,\\n  \"reviewer\": 0,\\n  \"uuid\": \"57e87bca-aac8-4c09-9436-d581f18e9720\",\\n  \"created_at\": \"1562991333\"\\n}'\n",
      "'{\\n  \"id\": 1329,\\n  \"hitokoto\": \"清晨、黄昏、天空 和飞鸟，代码、诗歌、活着 和爱你。\",\\n  \"type\": \"e\",\\n  \"from\": \"一个程序员\",\\n  \"from_who\": null,\\n  \"creator\": \"飞鸟\",\\n  \"creator_uid\": 159,\\n  \"reviewer\": 0,\\n  \"uuid\": \"b1a3cf36-513a-4fdd-afaa-52df5f3b2069\",\\n  \"created_at\": \"1513052859\"\\n}'\n",
      "'{\\n  \"id\": 1326,\\n  \"hitokoto\": \"为什么要称赞他人？那是为了把对方捧到更高的地方更容易绊他的脚，为了把他从高处摔下来。这就叫做称赞杀人法。\",\\n  \"type\": \"a\",\\n  \"from\": \"我的青春恋爱物语果然有问题\",\\n  \"from_who\": null,\\n  \"creator\": \"小埋233\",\\n  \"creator_uid\": 910,\\n  \"reviewer\": 0,\\n  \"uuid\": \"37d409b3-fe26-4024-9b82-d15fa3c13f82\",\\n  \"created_at\": \"1512889128\"\\n}'\n",
      "'{\\n  \"id\": 77,\\n  \"hitokoto\": \"下一次重逢，将是何年何月？天空必将见证。\",\\n  \"type\": \"a\",\\n  \"from\": \"SOLA\",\\n  \"from_who\": null,\\n  \"creator\": \"掌中tiger\",\\n  \"creator_uid\": 0,\\n  \"reviewer\": 0,\\n  \"uuid\": \"9ba7fda0-1912-4d67-8d49-331893b81ac3\",\\n  \"created_at\": \"1468605909\"\\n}'\n",
      "'{\\n  \"id\": 3901,\\n  \"hitokoto\": \"这颗糖微微发黑，一定不能吃了。被握的太紧，已经有点碎了。\",\\n  \"type\": \"d\",\\n  \"from\": \"魔道祖师\",\\n  \"from_who\": null,\\n  \"creator\": \"我養你啊_\",\\n  \"creator_uid\": 2033,\\n  \"reviewer\": 0,\\n  \"uuid\": \"9adbbb7e-417d-4123-8b11-cd0e1ea61d8c\",\\n  \"created_at\": \"1537446008\"\\n}'\n",
      "'{\\n  \"id\": 3940,\\n  \"hitokoto\": \"能力越大,责任越大\",\\n  \"type\": \"a\",\\n  \"from\": \"蜘蛛侠\",\\n  \"from_who\": null,\\n  \"creator\": \"CrankAR\",\\n  \"creator_uid\": 2131,\\n  \"reviewer\": 0,\\n  \"uuid\": \"15bb4706-9aa7-4434-b297-5170fe186bd7\",\\n  \"created_at\": \"1538650030\"\\n}'\n",
      "'{\\n  \"id\": 4483,\\n  \"hitokoto\": \"死并非再生的对立面，而是作为生的一部分永存于生中。\",\\n  \"type\": \"d\",\\n  \"from\": \"村上春树\",\\n  \"from_who\": null,\\n  \"creator\": \"17shou_VIP\",\\n  \"creator_uid\": 2705,\\n  \"reviewer\": 0,\\n  \"uuid\": \"2518f9ba-b104-45d6-9bc2-0ad3f5c4f9f3\",\\n  \"created_at\": \"1560071008\"\\n}'\n",
      "'{\\n  \"id\": 4086,\\n  \"hitokoto\": \"他不是一个人在战斗！\",\\n  \"type\": \"g\",\\n  \"from\": \"黄健翔\",\\n  \"from_who\": null,\\n  \"creator\": \"unknowncloud\",\\n  \"creator_uid\": 2196,\\n  \"reviewer\": 0,\\n  \"uuid\": \"4b18471e-b3a2-43f5-afe8-609f17126859\",\\n  \"created_at\": \"1539689640\"\\n}'\n"
     ]
    }
   ],
   "source": [
    "# 线程数\n",
    "executor = ThreadPoolExecutor(max_workers=4)\n",
    "# 获取数z\n",
    "all_tasks = [executor.submit(worker, (i)) for i in range(10)]"
   ]
  },
  {
   "cell_type": "code",
   "execution_count": 6,
   "metadata": {},
   "outputs": [
    {
     "name": "stdout",
     "output_type": "stream",
     "text": [
      "None\n",
      "None\n",
      "None\n",
      "None\n",
      "None\n",
      "None\n",
      "None\n",
      "None\n",
      "None\n",
      "None\n"
     ]
    },
    {
     "data": {
      "text/plain": [
       "'\\ncol = [\\'author\\',\\'answer\\']\\ndf = pd.DataFrame(data=answers,columns=col)\\n\\ndf.to_csv(\"answers.csv\",encoding=\"utf-8\")\\n'"
      ]
     },
     "execution_count": 6,
     "metadata": {},
     "output_type": "execute_result"
    }
   ],
   "source": [
    "# as_completed()方法是一个生成器，在没有任务完成的时候，会阻塞，\n",
    "# 在有某个任务完成的时候，会yield这个任务，就能执行for循环下面的语句，然后继续阻塞住，循环到所有的任务结束。\n",
    "# 从结果也可以看出，先完成的任务会先通知主线程\n",
    "\n",
    "answers = []\n",
    "for future in as_completed(all_tasks):\n",
    "    data = future.result()\n",
    "    print(data)\n",
    "    answers.append(data)\n",
    "\n",
    "\"\"\"\n",
    "col = ['author','answer']\n",
    "df = pd.DataFrame(data=answers,columns=col)\n",
    "\n",
    "df.to_csv(\"answers.csv\",encoding=\"utf-8\")\n",
    "\"\"\""
   ]
  },
  {
   "cell_type": "code",
   "execution_count": null,
   "metadata": {},
   "outputs": [],
   "source": []
  }
 ],
 "metadata": {
  "kernelspec": {
   "display_name": "Python 3",
   "language": "python",
   "name": "python3"
  },
  "language_info": {
   "codemirror_mode": {
    "name": "ipython",
    "version": 3
   },
   "file_extension": ".py",
   "mimetype": "text/x-python",
   "name": "python",
   "nbconvert_exporter": "python",
   "pygments_lexer": "ipython3",
   "version": "3.7.3"
  }
 },
 "nbformat": 4,
 "nbformat_minor": 2
}
